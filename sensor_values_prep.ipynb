{
 "cells": [
  {
   "cell_type": "markdown",
   "metadata": {},
   "source": [
    "# Download / transfrom datasets for machine learning"
   ]
  },
  {
   "cell_type": "code",
   "execution_count": 1,
   "metadata": {},
   "outputs": [
    {
     "ename": "ModuleNotFoundError",
     "evalue": "No module named 'jaydebeapi'",
     "output_type": "error",
     "traceback": [
      "\u001b[1;31m---------------------------------------------------------------------------\u001b[0m",
      "\u001b[1;31mModuleNotFoundError\u001b[0m                       Traceback (most recent call last)",
      "\u001b[1;32m<ipython-input-1-c39ed47c292e>\u001b[0m in \u001b[0;36m<module>\u001b[1;34m\u001b[0m\n\u001b[0;32m      8\u001b[0m \u001b[1;33m\u001b[0m\u001b[0m\n\u001b[0;32m      9\u001b[0m \u001b[1;31m# Python script that contains all the data downloading/ transformation functions\u001b[0m\u001b[1;33m\u001b[0m\u001b[1;33m\u001b[0m\u001b[1;33m\u001b[0m\u001b[0m\n\u001b[1;32m---> 10\u001b[1;33m \u001b[1;32mfrom\u001b[0m \u001b[0mscripts\u001b[0m\u001b[1;33m.\u001b[0m\u001b[0mget_datasets\u001b[0m \u001b[1;32mimport\u001b[0m \u001b[0mGetDatasets\u001b[0m\u001b[1;33m\u001b[0m\u001b[1;33m\u001b[0m\u001b[0m\n\u001b[0m\u001b[0;32m     11\u001b[0m \u001b[1;33m\u001b[0m\u001b[0m\n\u001b[0;32m     12\u001b[0m \u001b[1;32mimport\u001b[0m \u001b[0mpandas\u001b[0m \u001b[1;32mas\u001b[0m \u001b[0mpd\u001b[0m\u001b[1;33m\u001b[0m\u001b[1;33m\u001b[0m\u001b[0m\n",
      "\u001b[1;32mC:\\Data\\WC_ML_FAILPERC_PRED_PROJ\\scripts\\get_datasets.py\u001b[0m in \u001b[0;36m<module>\u001b[1;34m\u001b[0m\n\u001b[0;32m     14\u001b[0m \u001b[1;33m\u001b[0m\u001b[0m\n\u001b[0;32m     15\u001b[0m \u001b[1;32mimport\u001b[0m \u001b[0mcredentials\u001b[0m\u001b[1;33m\u001b[0m\u001b[1;33m\u001b[0m\u001b[0m\n\u001b[1;32m---> 16\u001b[1;33m \u001b[1;32mimport\u001b[0m \u001b[0mjaydebeapi\u001b[0m\u001b[1;33m\u001b[0m\u001b[1;33m\u001b[0m\u001b[0m\n\u001b[0m\u001b[0;32m     17\u001b[0m \u001b[1;33m\u001b[0m\u001b[0m\n\u001b[0;32m     18\u001b[0m \u001b[1;32mfrom\u001b[0m \u001b[0mscripts\u001b[0m\u001b[1;33m.\u001b[0m\u001b[0msensor_sql_query\u001b[0m \u001b[1;32mimport\u001b[0m \u001b[0msql_query\u001b[0m\u001b[1;33m\u001b[0m\u001b[1;33m\u001b[0m\u001b[0m\n",
      "\u001b[1;31mModuleNotFoundError\u001b[0m: No module named 'jaydebeapi'"
     ]
    }
   ],
   "source": [
    "'''\n",
    "File name: sensor_values_prep.py\n",
    "Author: 930233\n",
    "Date created: 01/04/2021\n",
    "Date last modified: 24/05/2013\n",
    "Python Version: 3.7\n",
    "'''\n",
    "\n",
    "# Python script that contains all the data downloading/ transformation functions\n",
    "from scripts.get_datasets import GetDatasets\n",
    "\n",
    "import pandas as pd\n",
    "import numpy as np\n",
    "import warnings\n",
    "\n",
    "warnings.simplefilter(action='ignore', category=FutureWarning)\n",
    "pd.set_option('display.max_rows', 500)\n",
    "pd.set_option('display.max_columns', 500)\n",
    "pd.set_option('display.width', 150)"
   ]
  },
  {
   "cell_type": "markdown",
   "metadata": {},
   "source": [
    "# 1. Download datasets to train ML model"
   ]
  },
  {
   "cell_type": "markdown",
   "metadata": {},
   "source": [
    "### 1.1 Setting parameters\n",
    "Enter **Seagate gid**, **Seagate password** and **directory to folder where keystore.jks and presto-jdbc-334.jar** in **credentials.py**, required for connection to prestodb to sql query sensor values"
   ]
  },
  {
   "cell_type": "code",
   "execution_count": 3,
   "metadata": {},
   "outputs": [],
   "source": [
    "WC = (\"OW601\", \"OW602\", \"OW603\", \"OW604\", \"OW606\")\n",
    "# Dates should be in the format '%Y-%m-%d'\n",
    "MIN_DATE = '2020-12-11'\n",
    "MAX_DATE = '2021-03-11'"
   ]
  },
  {
   "cell_type": "markdown",
   "metadata": {},
   "source": [
    "### 1.2 Running GetDatasets main function\n",
    "The run() function in GetDatasets will perform the following tasks:\n",
    "1. SQL query sensor values dataset from prestodb (if progress is stuck, restart kernel and run again)\n",
    "2. Download weather dataset from data.gov\n",
    "3. Transform datasets\n",
    "4. Use isolation forest to calculate anomaly count or calculate mean for sensor/ weather values\n",
    "5. Merge sensor and weather df"
   ]
  },
  {
   "cell_type": "code",
   "execution_count": 4,
   "metadata": {},
   "outputs": [
    {
     "name": "stdout",
     "output_type": "stream",
     "text": [
      "WC: ('OW601', 'OW602', 'OW603', 'OW604', 'OW606')\n",
      "Date Range: 2020-12-11 00:00:00 to 2021-03-11 00:00:00\n",
      "Sensors: ['di_recirc', 'mst1', 'mst2', 'cs_osr']\n",
      "Weather: ['no2_mean']\n",
      "\n",
      "Downloading sensor values\n",
      "OW601 flow values downloaded\n",
      "OW602 flow values downloaded\n",
      "OW603 flow values downloaded\n",
      "OW604 flow values downloaded\n",
      "OW606 flow values downloaded\n",
      "All sensor values downloaded\n",
      "\n",
      "Downloading weather dataset\n",
      "Weather data downloaded\n",
      "\n"
     ]
    },
    {
     "name": "stderr",
     "output_type": "stream",
     "text": [
      "C:\\Users\\930233\\Miniconda3\\lib\\site-packages\\IPython\\core\\magics\\execution.py:1326: DtypeWarning: Columns (0,2,3) have mixed types.Specify dtype option on import or set low_memory=False.\n",
      "  out = eval(code_2, glob, local_ns)\n"
     ]
    },
    {
     "name": "stdout",
     "output_type": "stream",
     "text": [
      "Detecting anomalies for OW601\n",
      "Grouping OW601\n"
     ]
    },
    {
     "name": "stderr",
     "output_type": "stream",
     "text": [
      "C:\\Users\\930233\\Miniconda3\\lib\\site-packages\\IPython\\core\\magics\\execution.py:1326: DtypeWarning: Columns (0) have mixed types.Specify dtype option on import or set low_memory=False.\n",
      "  out = eval(code_2, glob, local_ns)\n"
     ]
    },
    {
     "name": "stdout",
     "output_type": "stream",
     "text": [
      "Detecting anomalies for OW602\n",
      "Grouping OW602\n"
     ]
    },
    {
     "name": "stderr",
     "output_type": "stream",
     "text": [
      "C:\\Users\\930233\\Miniconda3\\lib\\site-packages\\IPython\\core\\magics\\execution.py:1326: DtypeWarning: Columns (0) have mixed types.Specify dtype option on import or set low_memory=False.\n",
      "  out = eval(code_2, glob, local_ns)\n"
     ]
    },
    {
     "name": "stdout",
     "output_type": "stream",
     "text": [
      "Detecting anomalies for OW603\n",
      "Grouping OW603\n"
     ]
    },
    {
     "name": "stderr",
     "output_type": "stream",
     "text": [
      "C:\\Users\\930233\\Miniconda3\\lib\\site-packages\\IPython\\core\\magics\\execution.py:1326: DtypeWarning: Columns (0) have mixed types.Specify dtype option on import or set low_memory=False.\n",
      "  out = eval(code_2, glob, local_ns)\n"
     ]
    },
    {
     "name": "stdout",
     "output_type": "stream",
     "text": [
      "Detecting anomalies for OW604\n",
      "Grouping OW604\n"
     ]
    },
    {
     "name": "stderr",
     "output_type": "stream",
     "text": [
      "C:\\Users\\930233\\Miniconda3\\lib\\site-packages\\IPython\\core\\magics\\execution.py:1326: DtypeWarning: Columns (0) have mixed types.Specify dtype option on import or set low_memory=False.\n",
      "  out = eval(code_2, glob, local_ns)\n"
     ]
    },
    {
     "name": "stdout",
     "output_type": "stream",
     "text": [
      "Detecting anomalies for OW606\n",
      "Grouping OW606\n",
      "\n",
      "Sensor dfs merged\n",
      "\n",
      "Weather data added to sensor df\n",
      "Wall time: 1h 4min 59s\n"
     ]
    }
   ],
   "source": [
    "%%time\n",
    "gd = GetDatasets(wc=WC, min_date=MIN_DATE, max_date=MAX_DATE, train=True)\n",
    "print(gd)\n",
    "gd.run()"
   ]
  },
  {
   "cell_type": "markdown",
   "metadata": {},
   "source": [
    "### 1.3 Final dataset"
   ]
  },
  {
   "cell_type": "code",
   "execution_count": 8,
   "metadata": {},
   "outputs": [
    {
     "data": {
      "text/html": [
       "<div>\n",
       "<style scoped>\n",
       "    .dataframe tbody tr th:only-of-type {\n",
       "        vertical-align: middle;\n",
       "    }\n",
       "\n",
       "    .dataframe tbody tr th {\n",
       "        vertical-align: top;\n",
       "    }\n",
       "\n",
       "    .dataframe thead th {\n",
       "        text-align: right;\n",
       "    }\n",
       "</style>\n",
       "<table border=\"1\" class=\"dataframe\">\n",
       "  <thead>\n",
       "    <tr style=\"text-align: right;\">\n",
       "      <th></th>\n",
       "      <th>dte</th>\n",
       "      <th>di_recirc_anomaly_sum</th>\n",
       "      <th>di_recirc_standardized_mean</th>\n",
       "      <th>di_recirc_flow_mean</th>\n",
       "      <th>mst1_anomaly_sum</th>\n",
       "      <th>mst1_standardized_mean</th>\n",
       "      <th>mst1_flow_mean</th>\n",
       "      <th>mst2_anomaly_sum</th>\n",
       "      <th>mst2_standardized_mean</th>\n",
       "      <th>mst2_flow_mean</th>\n",
       "      <th>cs_osr_anomaly_sum</th>\n",
       "      <th>cs_osr_standardized_mean</th>\n",
       "      <th>cs_osr_flow_mean</th>\n",
       "      <th>station</th>\n",
       "      <th>no2_mean</th>\n",
       "    </tr>\n",
       "  </thead>\n",
       "  <tbody>\n",
       "    <tr>\n",
       "      <th>0</th>\n",
       "      <td>2020-12-11</td>\n",
       "      <td>54799.0</td>\n",
       "      <td>-0.010867</td>\n",
       "      <td>6.302920</td>\n",
       "      <td>53051.0</td>\n",
       "      <td>-1.119483</td>\n",
       "      <td>39.901684</td>\n",
       "      <td>54604.0</td>\n",
       "      <td>0.054408</td>\n",
       "      <td>45.457482</td>\n",
       "      <td>42333.0</td>\n",
       "      <td>-0.051605</td>\n",
       "      <td>20.094430</td>\n",
       "      <td>OW601</td>\n",
       "      <td>NaN</td>\n",
       "    </tr>\n",
       "    <tr>\n",
       "      <th>1</th>\n",
       "      <td>2020-12-12</td>\n",
       "      <td>51789.0</td>\n",
       "      <td>-0.002599</td>\n",
       "      <td>6.367457</td>\n",
       "      <td>50116.0</td>\n",
       "      <td>-1.134474</td>\n",
       "      <td>39.894922</td>\n",
       "      <td>52196.0</td>\n",
       "      <td>0.027419</td>\n",
       "      <td>44.886799</td>\n",
       "      <td>40175.0</td>\n",
       "      <td>0.212396</td>\n",
       "      <td>21.215877</td>\n",
       "      <td>OW601</td>\n",
       "      <td>22.347826</td>\n",
       "    </tr>\n",
       "    <tr>\n",
       "      <th>2</th>\n",
       "      <td>2020-12-13</td>\n",
       "      <td>42991.0</td>\n",
       "      <td>-0.005083</td>\n",
       "      <td>6.348072</td>\n",
       "      <td>42005.0</td>\n",
       "      <td>-1.116510</td>\n",
       "      <td>39.903025</td>\n",
       "      <td>43190.0</td>\n",
       "      <td>0.056022</td>\n",
       "      <td>45.491613</td>\n",
       "      <td>33943.0</td>\n",
       "      <td>0.004854</td>\n",
       "      <td>20.334262</td>\n",
       "      <td>OW601</td>\n",
       "      <td>19.304348</td>\n",
       "    </tr>\n",
       "    <tr>\n",
       "      <th>3</th>\n",
       "      <td>2020-12-14</td>\n",
       "      <td>37507.0</td>\n",
       "      <td>-0.004086</td>\n",
       "      <td>6.355850</td>\n",
       "      <td>36835.0</td>\n",
       "      <td>-1.092246</td>\n",
       "      <td>39.913970</td>\n",
       "      <td>37986.0</td>\n",
       "      <td>0.010314</td>\n",
       "      <td>44.525129</td>\n",
       "      <td>28664.0</td>\n",
       "      <td>-0.409541</td>\n",
       "      <td>18.573959</td>\n",
       "      <td>OW601</td>\n",
       "      <td>13.521739</td>\n",
       "    </tr>\n",
       "    <tr>\n",
       "      <th>4</th>\n",
       "      <td>2020-12-15</td>\n",
       "      <td>55411.0</td>\n",
       "      <td>-0.006573</td>\n",
       "      <td>6.336437</td>\n",
       "      <td>53502.0</td>\n",
       "      <td>-1.126133</td>\n",
       "      <td>39.898685</td>\n",
       "      <td>55097.0</td>\n",
       "      <td>-0.039703</td>\n",
       "      <td>43.467529</td>\n",
       "      <td>43010.0</td>\n",
       "      <td>-0.394671</td>\n",
       "      <td>18.637125</td>\n",
       "      <td>OW601</td>\n",
       "      <td>21.217391</td>\n",
       "    </tr>\n",
       "  </tbody>\n",
       "</table>\n",
       "</div>"
      ],
      "text/plain": [
       "         dte  di_recirc_anomaly_sum  di_recirc_standardized_mean  di_recirc_flow_mean  mst1_anomaly_sum  mst1_standardized_mean  mst1_flow_mean  \\\n",
       "0 2020-12-11                54799.0                    -0.010867             6.302920           53051.0               -1.119483       39.901684   \n",
       "1 2020-12-12                51789.0                    -0.002599             6.367457           50116.0               -1.134474       39.894922   \n",
       "2 2020-12-13                42991.0                    -0.005083             6.348072           42005.0               -1.116510       39.903025   \n",
       "3 2020-12-14                37507.0                    -0.004086             6.355850           36835.0               -1.092246       39.913970   \n",
       "4 2020-12-15                55411.0                    -0.006573             6.336437           53502.0               -1.126133       39.898685   \n",
       "\n",
       "   mst2_anomaly_sum  mst2_standardized_mean  mst2_flow_mean  cs_osr_anomaly_sum  cs_osr_standardized_mean  cs_osr_flow_mean station   no2_mean  \n",
       "0           54604.0                0.054408       45.457482             42333.0                 -0.051605         20.094430   OW601        NaN  \n",
       "1           52196.0                0.027419       44.886799             40175.0                  0.212396         21.215877   OW601  22.347826  \n",
       "2           43190.0                0.056022       45.491613             33943.0                  0.004854         20.334262   OW601  19.304348  \n",
       "3           37986.0                0.010314       44.525129             28664.0                 -0.409541         18.573959   OW601  13.521739  \n",
       "4           55097.0               -0.039703       43.467529             43010.0                 -0.394671         18.637125   OW601  21.217391  "
      ]
     },
     "execution_count": 8,
     "metadata": {},
     "output_type": "execute_result"
    }
   ],
   "source": [
    "gd.df.head()"
   ]
  },
  {
   "cell_type": "code",
   "execution_count": 9,
   "metadata": {},
   "outputs": [],
   "source": [
    "# Save to csv\n",
    "gd.df.to_csv(\"datasets\\cleaned_sensor_weather_train.csv\", index=False)"
   ]
  },
  {
   "cell_type": "markdown",
   "metadata": {},
   "source": [
    "# 2. Download datasets to test ML model"
   ]
  },
  {
   "cell_type": "markdown",
   "metadata": {},
   "source": [
    "### 2.1 Setting parameters\n",
    "Enter **Seagate gid**, **Seagate password** and **directory to folder where keystore.jks and presto-jdbc-334.jar** in **credentials.py**, required for connection to prestodb to sql query sensor values"
   ]
  },
  {
   "cell_type": "code",
   "execution_count": 13,
   "metadata": {},
   "outputs": [],
   "source": [
    "WC = (\"OW601\", \"OW602\", \"OW603\", \"OW604\", \"OW606\")\n",
    "# Dates should be in the format '%Y-%m-%d'\n",
    "MIN_DATE = '2021-03-12'\n",
    "MAX_DATE = '2021-03-17'"
   ]
  },
  {
   "cell_type": "markdown",
   "metadata": {},
   "source": [
    "### 2.2 Running GetDatasets main function\n",
    "The run() function in GetDatasets will perform the following tasks:\n",
    "1. SQL query sensor values dataset from prestodb (if progress is stuck, restart kernel and run again)\n",
    "2. Download weather dataset from data.gov\n",
    "3. Transform datasets\n",
    "4. Use isolation forest to calculate anomaly count or calculate mean for sensor/ weather values\n",
    "5. Merge sensor and weather df"
   ]
  },
  {
   "cell_type": "code",
   "execution_count": 14,
   "metadata": {},
   "outputs": [
    {
     "name": "stdout",
     "output_type": "stream",
     "text": [
      "WC: ('OW601', 'OW602', 'OW603', 'OW604', 'OW606')\n",
      "Date Range: 2021-03-12 00:00:00 to 2021-03-17 00:00:00\n",
      "Sensors: ['di_recirc', 'mst1', 'mst2', 'cs_osr']\n",
      "Weather: ['no2_mean']\n",
      "\n",
      "Downloading sensor values\n",
      "OW601 flow values downloaded\n",
      "OW602 flow values downloaded\n",
      "OW603 flow values downloaded\n",
      "OW604 flow values downloaded\n",
      "OW606 flow values downloaded\n",
      "All sensor values downloaded\n",
      "\n",
      "Downloading weather dataset\n",
      "Weather data downloaded\n",
      "\n",
      "Detecting anomalies for OW601\n",
      "Grouping OW601\n",
      "Detecting anomalies for OW602\n",
      "Grouping OW602\n",
      "Detecting anomalies for OW603\n",
      "Grouping OW603\n",
      "Detecting anomalies for OW604\n",
      "Grouping OW604\n",
      "Detecting anomalies for OW606\n",
      "Grouping OW606\n",
      "\n",
      "Sensor dfs merged\n",
      "\n",
      "Weather data added to sensor df\n",
      "Wall time: 47.8 s\n"
     ]
    }
   ],
   "source": [
    "%%time\n",
    "gd = GetDatasets(wc=WC, min_date=MIN_DATE, max_date=MAX_DATE, train=False)\n",
    "print(gd)\n",
    "gd.run()"
   ]
  },
  {
   "cell_type": "markdown",
   "metadata": {},
   "source": [
    "### 2.3 Final dataset"
   ]
  },
  {
   "cell_type": "code",
   "execution_count": 15,
   "metadata": {},
   "outputs": [
    {
     "data": {
      "text/html": [
       "<div>\n",
       "<style scoped>\n",
       "    .dataframe tbody tr th:only-of-type {\n",
       "        vertical-align: middle;\n",
       "    }\n",
       "\n",
       "    .dataframe tbody tr th {\n",
       "        vertical-align: top;\n",
       "    }\n",
       "\n",
       "    .dataframe thead th {\n",
       "        text-align: right;\n",
       "    }\n",
       "</style>\n",
       "<table border=\"1\" class=\"dataframe\">\n",
       "  <thead>\n",
       "    <tr style=\"text-align: right;\">\n",
       "      <th></th>\n",
       "      <th>dte</th>\n",
       "      <th>di_recirc_anomaly_sum</th>\n",
       "      <th>di_recirc_standardized_mean</th>\n",
       "      <th>di_recirc_flow_mean</th>\n",
       "      <th>mst1_anomaly_sum</th>\n",
       "      <th>mst1_standardized_mean</th>\n",
       "      <th>mst1_flow_mean</th>\n",
       "      <th>mst2_anomaly_sum</th>\n",
       "      <th>mst2_standardized_mean</th>\n",
       "      <th>mst2_flow_mean</th>\n",
       "      <th>cs_osr_anomaly_sum</th>\n",
       "      <th>cs_osr_standardized_mean</th>\n",
       "      <th>cs_osr_flow_mean</th>\n",
       "      <th>station</th>\n",
       "      <th>no2_mean</th>\n",
       "    </tr>\n",
       "  </thead>\n",
       "  <tbody>\n",
       "    <tr>\n",
       "      <th>0</th>\n",
       "      <td>2021-03-12</td>\n",
       "      <td>1301.0</td>\n",
       "      <td>-0.036745</td>\n",
       "      <td>6.099531</td>\n",
       "      <td>1255.0</td>\n",
       "      <td>0.115460</td>\n",
       "      <td>40.750309</td>\n",
       "      <td>1282.0</td>\n",
       "      <td>0.077394</td>\n",
       "      <td>46.044750</td>\n",
       "      <td>950.0</td>\n",
       "      <td>0.427679</td>\n",
       "      <td>34.787667</td>\n",
       "      <td>OW601</td>\n",
       "      <td>NaN</td>\n",
       "    </tr>\n",
       "    <tr>\n",
       "      <th>1</th>\n",
       "      <td>2021-03-15</td>\n",
       "      <td>4988.0</td>\n",
       "      <td>-0.020127</td>\n",
       "      <td>6.227980</td>\n",
       "      <td>5416.0</td>\n",
       "      <td>-0.059284</td>\n",
       "      <td>40.697454</td>\n",
       "      <td>5148.0</td>\n",
       "      <td>-0.035384</td>\n",
       "      <td>43.578167</td>\n",
       "      <td>4011.0</td>\n",
       "      <td>-0.163314</td>\n",
       "      <td>33.957103</td>\n",
       "      <td>OW601</td>\n",
       "      <td>9.956522</td>\n",
       "    </tr>\n",
       "    <tr>\n",
       "      <th>2</th>\n",
       "      <td>2021-03-16</td>\n",
       "      <td>1321.0</td>\n",
       "      <td>0.111472</td>\n",
       "      <td>7.245191</td>\n",
       "      <td>1353.0</td>\n",
       "      <td>0.129886</td>\n",
       "      <td>40.754673</td>\n",
       "      <td>1319.0</td>\n",
       "      <td>0.063779</td>\n",
       "      <td>45.746971</td>\n",
       "      <td>1111.0</td>\n",
       "      <td>0.223969</td>\n",
       "      <td>34.501379</td>\n",
       "      <td>OW601</td>\n",
       "      <td>11.739130</td>\n",
       "    </tr>\n",
       "    <tr>\n",
       "      <th>3</th>\n",
       "      <td>2021-03-12</td>\n",
       "      <td>2086.0</td>\n",
       "      <td>-0.144205</td>\n",
       "      <td>4.904519</td>\n",
       "      <td>2234.0</td>\n",
       "      <td>0.243740</td>\n",
       "      <td>39.640390</td>\n",
       "      <td>2188.0</td>\n",
       "      <td>0.006053</td>\n",
       "      <td>51.944771</td>\n",
       "      <td>1828.0</td>\n",
       "      <td>0.127991</td>\n",
       "      <td>27.540531</td>\n",
       "      <td>OW602</td>\n",
       "      <td>NaN</td>\n",
       "    </tr>\n",
       "    <tr>\n",
       "      <th>4</th>\n",
       "      <td>2021-03-15</td>\n",
       "      <td>9167.0</td>\n",
       "      <td>0.032340</td>\n",
       "      <td>6.201639</td>\n",
       "      <td>9260.0</td>\n",
       "      <td>-0.060429</td>\n",
       "      <td>39.564636</td>\n",
       "      <td>9253.0</td>\n",
       "      <td>-0.001420</td>\n",
       "      <td>51.753991</td>\n",
       "      <td>7023.0</td>\n",
       "      <td>-0.032491</td>\n",
       "      <td>27.125206</td>\n",
       "      <td>OW602</td>\n",
       "      <td>9.956522</td>\n",
       "    </tr>\n",
       "  </tbody>\n",
       "</table>\n",
       "</div>"
      ],
      "text/plain": [
       "         dte  di_recirc_anomaly_sum  di_recirc_standardized_mean  di_recirc_flow_mean  mst1_anomaly_sum  mst1_standardized_mean  mst1_flow_mean  \\\n",
       "0 2021-03-12                 1301.0                    -0.036745             6.099531            1255.0                0.115460       40.750309   \n",
       "1 2021-03-15                 4988.0                    -0.020127             6.227980            5416.0               -0.059284       40.697454   \n",
       "2 2021-03-16                 1321.0                     0.111472             7.245191            1353.0                0.129886       40.754673   \n",
       "3 2021-03-12                 2086.0                    -0.144205             4.904519            2234.0                0.243740       39.640390   \n",
       "4 2021-03-15                 9167.0                     0.032340             6.201639            9260.0               -0.060429       39.564636   \n",
       "\n",
       "   mst2_anomaly_sum  mst2_standardized_mean  mst2_flow_mean  cs_osr_anomaly_sum  cs_osr_standardized_mean  cs_osr_flow_mean station   no2_mean  \n",
       "0            1282.0                0.077394       46.044750               950.0                  0.427679         34.787667   OW601        NaN  \n",
       "1            5148.0               -0.035384       43.578167              4011.0                 -0.163314         33.957103   OW601   9.956522  \n",
       "2            1319.0                0.063779       45.746971              1111.0                  0.223969         34.501379   OW601  11.739130  \n",
       "3            2188.0                0.006053       51.944771              1828.0                  0.127991         27.540531   OW602        NaN  \n",
       "4            9253.0               -0.001420       51.753991              7023.0                 -0.032491         27.125206   OW602   9.956522  "
      ]
     },
     "execution_count": 15,
     "metadata": {},
     "output_type": "execute_result"
    }
   ],
   "source": [
    "gd.df.head()"
   ]
  },
  {
   "cell_type": "code",
   "execution_count": 16,
   "metadata": {},
   "outputs": [],
   "source": [
    "# Save to csv\n",
    "gd.df.to_csv(\"datasets\\cleaned_sensor_weather_test.csv\", index=False)"
   ]
  }
 ],
 "metadata": {
  "kernelspec": {
   "display_name": "Python 3",
   "language": "python",
   "name": "python3"
  },
  "language_info": {
   "codemirror_mode": {
    "name": "ipython",
    "version": 3
   },
   "file_extension": ".py",
   "mimetype": "text/x-python",
   "name": "python",
   "nbconvert_exporter": "python",
   "pygments_lexer": "ipython3",
   "version": "3.7.7"
  }
 },
 "nbformat": 4,
 "nbformat_minor": 4
}
